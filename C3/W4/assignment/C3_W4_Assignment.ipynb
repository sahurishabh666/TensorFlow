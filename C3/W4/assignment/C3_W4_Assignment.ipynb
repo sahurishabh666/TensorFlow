{
  "nbformat": 4,
  "nbformat_minor": 0,
  "metadata": {
    "accelerator": "GPU",
    "colab": {
      "name": "C3_W4_Assignment_Solution.ipynb",
      "provenance": [],
      "collapsed_sections": [],
      "include_colab_link": true
    },
    "kernelspec": {
      "name": "python3",
      "display_name": "Python 3"
    },
    "language_info": {
      "name": "python"
    }
  },
  "cells": [
    {
      "cell_type": "markdown",
      "metadata": {
        "id": "view-in-github",
        "colab_type": "text"
      },
      "source": [
        "<a href=\"https://colab.research.google.com/github/sahurishabh666/TensorFlow/blob/master/C3/W4/assignment/C3_W4_Assignment.ipynb\" target=\"_parent\"><img src=\"https://colab.research.google.com/assets/colab-badge.svg\" alt=\"Open In Colab\"/></a>"
      ]
    },
    {
      "cell_type": "code",
      "metadata": {
        "id": "zX4Kg8DUTKWO"
      },
      "source": [
        "#@title Licensed under the Apache License, Version 2.0 (the \"License\");\n",
        "# you may not use this file except in compliance with the License.\n",
        "# You may obtain a copy of the License at\n",
        "#\n",
        "# https://www.apache.org/licenses/LICENSE-2.0\n",
        "#\n",
        "# Unless required by applicable law or agreed to in writing, software\n",
        "# distributed under the License is distributed on an \"AS IS\" BASIS,\n",
        "# WITHOUT WARRANTIES OR CONDITIONS OF ANY KIND, either express or implied.\n",
        "# See the License for the specific language governing permissions and\n",
        "# limitations under the License."
      ],
      "execution_count": 1,
      "outputs": []
    },
    {
      "cell_type": "markdown",
      "metadata": {
        "id": "NeQByOlMmtn8"
      },
      "source": [
        "**Note:** This notebook can run using TensorFlow 2.5.0"
      ]
    },
    {
      "cell_type": "code",
      "metadata": {
        "id": "QtWdoQT_mtn8"
      },
      "source": [
        "#!pip install tensorflow==2.5.0"
      ],
      "execution_count": 2,
      "outputs": []
    },
    {
      "cell_type": "code",
      "metadata": {
        "id": "BOwsuGQQY9OL"
      },
      "source": [
        "from tensorflow.keras.preprocessing.sequence import pad_sequences\n",
        "from tensorflow.keras.layers import Embedding, LSTM, Dense, Dropout, Bidirectional\n",
        "from tensorflow.keras.preprocessing.text import Tokenizer\n",
        "from tensorflow.keras.models import Sequential\n",
        "from tensorflow.keras.optimizers import Adam\n",
        "from tensorflow.keras import regularizers\n",
        "import tensorflow.keras.utils as ku \n",
        "import numpy as np "
      ],
      "execution_count": 3,
      "outputs": []
    },
    {
      "cell_type": "code",
      "metadata": {
        "id": "PRnDnCW-Z7qv",
        "outputId": "ab5fb7d8-b877-455d-9857-3aef90be82ec",
        "colab": {
          "base_uri": "https://localhost:8080/"
        }
      },
      "source": [
        "tokenizer = Tokenizer()\n",
        "\n",
        "# sonnets.txt\n",
        "!gdown --id 108jAePKK4R3BVYBbYJZ32JWUwxeMg20K\n",
        "\n",
        "data = open('./sonnets.txt').read()\n",
        "\n",
        "corpus = data.lower().split(\"\\n\")\n",
        "\n",
        "\n",
        "tokenizer.fit_on_texts(corpus)\n",
        "total_words = len(tokenizer.word_index) + 1\n",
        "\n",
        "# create input sequences using list of tokens\n",
        "input_sequences = []\n",
        "for line in corpus:\n",
        "\ttoken_list = tokenizer.texts_to_sequences([line])[0]\n",
        "\tfor i in range(1, len(token_list)):\n",
        "\t\tn_gram_sequence = token_list[:i+1]\n",
        "\t\tinput_sequences.append(n_gram_sequence)\n",
        "\n",
        "\n",
        "# pad sequences \n",
        "max_sequence_len = max([len(x) for x in input_sequences])\n",
        "input_sequences = np.array(pad_sequences(input_sequences, maxlen=max_sequence_len, padding='pre'))\n",
        "\n",
        "# create predictors and label\n",
        "predictors, label = input_sequences[:,:-1],input_sequences[:,-1]\n",
        "\n",
        "label = ku.to_categorical(label, num_classes=total_words)"
      ],
      "execution_count": 4,
      "outputs": [
        {
          "output_type": "stream",
          "name": "stdout",
          "text": [
            "/usr/local/lib/python3.7/dist-packages/gdown/cli.py:131: FutureWarning: Option `--id` was deprecated in version 4.3.1 and will be removed in 5.0. You don't need to pass it anymore to use a file ID.\n",
            "  category=FutureWarning,\n",
            "Downloading...\n",
            "From: https://drive.google.com/uc?id=108jAePKK4R3BVYBbYJZ32JWUwxeMg20K\n",
            "To: /content/sonnets.txt\n",
            "100% 93.6k/93.6k [00:00<00:00, 75.0MB/s]\n"
          ]
        }
      ]
    },
    {
      "cell_type": "code",
      "metadata": {
        "id": "w9vH8Y59ajYL",
        "outputId": "80a7ea84-3f8c-4fe2-f8fc-d24f5712bed5",
        "colab": {
          "base_uri": "https://localhost:8080/"
        }
      },
      "source": [
        "### START CODE HERE\n",
        "model = Sequential()\n",
        "model.add(Embedding(total_words, 100, input_length=max_sequence_len-1))# Your Embedding Layer)\n",
        "model.add(Bidirectional(LSTM(150, return_sequences = True)))# An LSTM Layer)\n",
        "model.add(Dropout(0.2))# A dropout layer)\n",
        "model.add(LSTM(100))# Another LSTM Layer)\n",
        "model.add(Dense(total_words/2, activation='relu', kernel_regularizer=regularizers.l2(0.01)))# A Dense Layer including regularizers)\n",
        "model.add(Dense(total_words, activation='softmax'))# A Dense Layer)\n",
        "# Pick an optimizer\n",
        "model.compile(loss='categorical_crossentropy', optimizer='adam', metrics=['accuracy'])# Pick a loss function and an optimizer)\n",
        "### END CODE HERE\n",
        "\n",
        "print(model.summary())"
      ],
      "execution_count": 5,
      "outputs": [
        {
          "output_type": "stream",
          "name": "stdout",
          "text": [
            "Model: \"sequential\"\n",
            "_________________________________________________________________\n",
            " Layer (type)                Output Shape              Param #   \n",
            "=================================================================\n",
            " embedding (Embedding)       (None, 10, 100)           321100    \n",
            "                                                                 \n",
            " bidirectional (Bidirectiona  (None, 10, 300)          301200    \n",
            " l)                                                              \n",
            "                                                                 \n",
            " dropout (Dropout)           (None, 10, 300)           0         \n",
            "                                                                 \n",
            " lstm_1 (LSTM)               (None, 100)               160400    \n",
            "                                                                 \n",
            " dense (Dense)               (None, 1605)              162105    \n",
            "                                                                 \n",
            " dense_1 (Dense)             (None, 3211)              5156866   \n",
            "                                                                 \n",
            "=================================================================\n",
            "Total params: 6,101,671\n",
            "Trainable params: 6,101,671\n",
            "Non-trainable params: 0\n",
            "_________________________________________________________________\n",
            "None\n"
          ]
        }
      ]
    },
    {
      "cell_type": "code",
      "metadata": {
        "id": "AIg2f1HBxqof",
        "outputId": "77e5ea04-d2d0-46c9-bb96-becdd3fb46af",
        "colab": {
          "base_uri": "https://localhost:8080/"
        }
      },
      "source": [
        " history = model.fit(predictors, label, epochs=100, verbose=1)"
      ],
      "execution_count": 6,
      "outputs": [
        {
          "output_type": "stream",
          "name": "stdout",
          "text": [
            "Epoch 1/100\n",
            "484/484 [==============================] - 29s 26ms/step - loss: 6.8956 - accuracy: 0.0237\n",
            "Epoch 2/100\n",
            "484/484 [==============================] - 13s 26ms/step - loss: 6.5025 - accuracy: 0.0226\n",
            "Epoch 3/100\n",
            "484/484 [==============================] - 13s 27ms/step - loss: 6.4030 - accuracy: 0.0256\n",
            "Epoch 4/100\n",
            "484/484 [==============================] - 13s 26ms/step - loss: 6.2765 - accuracy: 0.0310\n",
            "Epoch 5/100\n",
            "484/484 [==============================] - 13s 26ms/step - loss: 6.1753 - accuracy: 0.0373\n",
            "Epoch 6/100\n",
            "484/484 [==============================] - 13s 26ms/step - loss: 6.0843 - accuracy: 0.0393\n",
            "Epoch 7/100\n",
            "484/484 [==============================] - 13s 26ms/step - loss: 6.0029 - accuracy: 0.0429\n",
            "Epoch 8/100\n",
            "484/484 [==============================] - 13s 26ms/step - loss: 5.9233 - accuracy: 0.0451\n",
            "Epoch 9/100\n",
            "484/484 [==============================] - 12s 26ms/step - loss: 5.8291 - accuracy: 0.0530\n",
            "Epoch 10/100\n",
            "484/484 [==============================] - 13s 26ms/step - loss: 5.7210 - accuracy: 0.0587\n",
            "Epoch 11/100\n",
            "484/484 [==============================] - 13s 26ms/step - loss: 5.6114 - accuracy: 0.0654\n",
            "Epoch 12/100\n",
            "484/484 [==============================] - 13s 26ms/step - loss: 5.5048 - accuracy: 0.0711\n",
            "Epoch 13/100\n",
            "484/484 [==============================] - 12s 25ms/step - loss: 5.3986 - accuracy: 0.0787\n",
            "Epoch 14/100\n",
            "484/484 [==============================] - 13s 26ms/step - loss: 5.2933 - accuracy: 0.0861\n",
            "Epoch 15/100\n",
            "484/484 [==============================] - 13s 26ms/step - loss: 5.1884 - accuracy: 0.0902\n",
            "Epoch 16/100\n",
            "484/484 [==============================] - 12s 26ms/step - loss: 5.0878 - accuracy: 0.0951\n",
            "Epoch 17/100\n",
            "484/484 [==============================] - 12s 26ms/step - loss: 4.9843 - accuracy: 0.1053\n",
            "Epoch 18/100\n",
            "484/484 [==============================] - 13s 26ms/step - loss: 4.8830 - accuracy: 0.1149\n",
            "Epoch 19/100\n",
            "484/484 [==============================] - 13s 26ms/step - loss: 4.7809 - accuracy: 0.1257\n",
            "Epoch 20/100\n",
            "484/484 [==============================] - 13s 26ms/step - loss: 4.6852 - accuracy: 0.1326\n",
            "Epoch 21/100\n",
            "484/484 [==============================] - 12s 26ms/step - loss: 4.5872 - accuracy: 0.1420\n",
            "Epoch 22/100\n",
            "484/484 [==============================] - 13s 26ms/step - loss: 4.4895 - accuracy: 0.1493\n",
            "Epoch 23/100\n",
            "484/484 [==============================] - 13s 26ms/step - loss: 4.3845 - accuracy: 0.1609\n",
            "Epoch 24/100\n",
            "484/484 [==============================] - 13s 26ms/step - loss: 4.2853 - accuracy: 0.1755\n",
            "Epoch 25/100\n",
            "484/484 [==============================] - 12s 26ms/step - loss: 4.1902 - accuracy: 0.1871\n",
            "Epoch 26/100\n",
            "484/484 [==============================] - 13s 26ms/step - loss: 4.0947 - accuracy: 0.1988\n",
            "Epoch 27/100\n",
            "484/484 [==============================] - 13s 26ms/step - loss: 4.0065 - accuracy: 0.2081\n",
            "Epoch 28/100\n",
            "484/484 [==============================] - 13s 26ms/step - loss: 3.9024 - accuracy: 0.2282\n",
            "Epoch 29/100\n",
            "484/484 [==============================] - 13s 27ms/step - loss: 3.8064 - accuracy: 0.2442\n",
            "Epoch 30/100\n",
            "484/484 [==============================] - 13s 26ms/step - loss: 3.7158 - accuracy: 0.2611\n",
            "Epoch 31/100\n",
            "484/484 [==============================] - 13s 27ms/step - loss: 3.6255 - accuracy: 0.2764\n",
            "Epoch 32/100\n",
            "484/484 [==============================] - 13s 27ms/step - loss: 3.5408 - accuracy: 0.3003\n",
            "Epoch 33/100\n",
            "484/484 [==============================] - 13s 26ms/step - loss: 3.4489 - accuracy: 0.3130\n",
            "Epoch 34/100\n",
            "484/484 [==============================] - 13s 27ms/step - loss: 3.3679 - accuracy: 0.3320\n",
            "Epoch 35/100\n",
            "484/484 [==============================] - 13s 26ms/step - loss: 3.2878 - accuracy: 0.3507\n",
            "Epoch 36/100\n",
            "484/484 [==============================] - 13s 26ms/step - loss: 3.2087 - accuracy: 0.3679\n",
            "Epoch 37/100\n",
            "484/484 [==============================] - 13s 26ms/step - loss: 3.1444 - accuracy: 0.3787\n",
            "Epoch 38/100\n",
            "484/484 [==============================] - 13s 26ms/step - loss: 3.0666 - accuracy: 0.3992\n",
            "Epoch 39/100\n",
            "484/484 [==============================] - 13s 26ms/step - loss: 2.9913 - accuracy: 0.4139\n",
            "Epoch 40/100\n",
            "484/484 [==============================] - 12s 26ms/step - loss: 2.9271 - accuracy: 0.4287\n",
            "Epoch 41/100\n",
            "484/484 [==============================] - 13s 26ms/step - loss: 2.8704 - accuracy: 0.4407\n",
            "Epoch 42/100\n",
            "484/484 [==============================] - 13s 27ms/step - loss: 2.7984 - accuracy: 0.4600\n",
            "Epoch 43/100\n",
            "484/484 [==============================] - 13s 26ms/step - loss: 2.7338 - accuracy: 0.4708\n",
            "Epoch 44/100\n",
            "484/484 [==============================] - 13s 26ms/step - loss: 2.6849 - accuracy: 0.4864\n",
            "Epoch 45/100\n",
            "484/484 [==============================] - 13s 26ms/step - loss: 2.6316 - accuracy: 0.4928\n",
            "Epoch 46/100\n",
            "484/484 [==============================] - 13s 27ms/step - loss: 2.5686 - accuracy: 0.5094\n",
            "Epoch 47/100\n",
            "484/484 [==============================] - 13s 26ms/step - loss: 2.5079 - accuracy: 0.5166\n",
            "Epoch 48/100\n",
            "484/484 [==============================] - 13s 26ms/step - loss: 2.4600 - accuracy: 0.5312\n",
            "Epoch 49/100\n",
            "484/484 [==============================] - 13s 26ms/step - loss: 2.4167 - accuracy: 0.5427\n",
            "Epoch 50/100\n",
            "484/484 [==============================] - 13s 27ms/step - loss: 2.3704 - accuracy: 0.5502\n",
            "Epoch 51/100\n",
            "484/484 [==============================] - 13s 26ms/step - loss: 2.3337 - accuracy: 0.5607\n",
            "Epoch 52/100\n",
            "484/484 [==============================] - 13s 26ms/step - loss: 2.2798 - accuracy: 0.5713\n",
            "Epoch 53/100\n",
            "484/484 [==============================] - 13s 27ms/step - loss: 2.2291 - accuracy: 0.5842\n",
            "Epoch 54/100\n",
            "484/484 [==============================] - 13s 27ms/step - loss: 2.1948 - accuracy: 0.5942\n",
            "Epoch 55/100\n",
            "484/484 [==============================] - 13s 26ms/step - loss: 2.1384 - accuracy: 0.6028\n",
            "Epoch 56/100\n",
            "484/484 [==============================] - 13s 26ms/step - loss: 2.1125 - accuracy: 0.6069\n",
            "Epoch 57/100\n",
            "484/484 [==============================] - 13s 26ms/step - loss: 2.0671 - accuracy: 0.6171\n",
            "Epoch 58/100\n",
            "484/484 [==============================] - 13s 27ms/step - loss: 2.0311 - accuracy: 0.6264\n",
            "Epoch 59/100\n",
            "484/484 [==============================] - 13s 26ms/step - loss: 2.0030 - accuracy: 0.6334\n",
            "Epoch 60/100\n",
            "484/484 [==============================] - 13s 26ms/step - loss: 1.9612 - accuracy: 0.6407\n",
            "Epoch 61/100\n",
            "484/484 [==============================] - 13s 26ms/step - loss: 1.9349 - accuracy: 0.6462\n",
            "Epoch 62/100\n",
            "484/484 [==============================] - 13s 27ms/step - loss: 1.8916 - accuracy: 0.6582\n",
            "Epoch 63/100\n",
            "484/484 [==============================] - 13s 26ms/step - loss: 1.8569 - accuracy: 0.6622\n",
            "Epoch 64/100\n",
            "484/484 [==============================] - 13s 26ms/step - loss: 1.8305 - accuracy: 0.6713\n",
            "Epoch 65/100\n",
            "484/484 [==============================] - 13s 26ms/step - loss: 1.7897 - accuracy: 0.6801\n",
            "Epoch 66/100\n",
            "484/484 [==============================] - 13s 27ms/step - loss: 1.7726 - accuracy: 0.6815\n",
            "Epoch 67/100\n",
            "484/484 [==============================] - 13s 27ms/step - loss: 1.7542 - accuracy: 0.6807\n",
            "Epoch 68/100\n",
            "484/484 [==============================] - 13s 27ms/step - loss: 1.7233 - accuracy: 0.6952\n",
            "Epoch 69/100\n",
            "484/484 [==============================] - 13s 26ms/step - loss: 1.6922 - accuracy: 0.6980\n",
            "Epoch 70/100\n",
            "484/484 [==============================] - 13s 27ms/step - loss: 1.6710 - accuracy: 0.7026\n",
            "Epoch 71/100\n",
            "484/484 [==============================] - 13s 27ms/step - loss: 1.6480 - accuracy: 0.7065\n",
            "Epoch 72/100\n",
            "484/484 [==============================] - 13s 27ms/step - loss: 1.6150 - accuracy: 0.7126\n",
            "Epoch 73/100\n",
            "484/484 [==============================] - 13s 27ms/step - loss: 1.5860 - accuracy: 0.7206\n",
            "Epoch 74/100\n",
            "484/484 [==============================] - 13s 27ms/step - loss: 1.5771 - accuracy: 0.7203\n",
            "Epoch 75/100\n",
            "484/484 [==============================] - 13s 26ms/step - loss: 1.5536 - accuracy: 0.7299\n",
            "Epoch 76/100\n",
            "484/484 [==============================] - 13s 26ms/step - loss: 1.5334 - accuracy: 0.7343\n",
            "Epoch 77/100\n",
            "484/484 [==============================] - 13s 26ms/step - loss: 1.5180 - accuracy: 0.7332\n",
            "Epoch 78/100\n",
            "484/484 [==============================] - 13s 27ms/step - loss: 1.4970 - accuracy: 0.7368\n",
            "Epoch 79/100\n",
            "484/484 [==============================] - 13s 26ms/step - loss: 1.4766 - accuracy: 0.7410\n",
            "Epoch 80/100\n",
            "484/484 [==============================] - 13s 26ms/step - loss: 1.4442 - accuracy: 0.7482\n",
            "Epoch 81/100\n",
            "484/484 [==============================] - 13s 26ms/step - loss: 1.4283 - accuracy: 0.7525\n",
            "Epoch 82/100\n",
            "484/484 [==============================] - 13s 26ms/step - loss: 1.4115 - accuracy: 0.7582\n",
            "Epoch 83/100\n",
            "484/484 [==============================] - 13s 26ms/step - loss: 1.4028 - accuracy: 0.7558\n",
            "Epoch 84/100\n",
            "484/484 [==============================] - 13s 26ms/step - loss: 1.3867 - accuracy: 0.7578\n",
            "Epoch 85/100\n",
            "484/484 [==============================] - 13s 27ms/step - loss: 1.3691 - accuracy: 0.7626\n",
            "Epoch 86/100\n",
            "484/484 [==============================] - 13s 27ms/step - loss: 1.3558 - accuracy: 0.7650\n",
            "Epoch 87/100\n",
            "484/484 [==============================] - 13s 26ms/step - loss: 1.3420 - accuracy: 0.7672\n",
            "Epoch 88/100\n",
            "484/484 [==============================] - 13s 27ms/step - loss: 1.3239 - accuracy: 0.7729\n",
            "Epoch 89/100\n",
            "484/484 [==============================] - 13s 26ms/step - loss: 1.3140 - accuracy: 0.7723\n",
            "Epoch 90/100\n",
            "484/484 [==============================] - 13s 26ms/step - loss: 1.3136 - accuracy: 0.7707\n",
            "Epoch 91/100\n",
            "484/484 [==============================] - 13s 26ms/step - loss: 1.2914 - accuracy: 0.7747\n",
            "Epoch 92/100\n",
            "484/484 [==============================] - 13s 26ms/step - loss: 1.2705 - accuracy: 0.7809\n",
            "Epoch 93/100\n",
            "484/484 [==============================] - 13s 26ms/step - loss: 1.2528 - accuracy: 0.7826\n",
            "Epoch 94/100\n",
            "484/484 [==============================] - 13s 26ms/step - loss: 1.2438 - accuracy: 0.7862\n",
            "Epoch 95/100\n",
            "484/484 [==============================] - 13s 26ms/step - loss: 1.2298 - accuracy: 0.7901\n",
            "Epoch 96/100\n",
            "484/484 [==============================] - 12s 26ms/step - loss: 1.2244 - accuracy: 0.7885\n",
            "Epoch 97/100\n",
            "484/484 [==============================] - 12s 26ms/step - loss: 1.2068 - accuracy: 0.7927\n",
            "Epoch 98/100\n",
            "484/484 [==============================] - 12s 26ms/step - loss: 1.2046 - accuracy: 0.7919\n",
            "Epoch 99/100\n",
            "484/484 [==============================] - 12s 25ms/step - loss: 1.1990 - accuracy: 0.7907\n",
            "Epoch 100/100\n",
            "484/484 [==============================] - 12s 26ms/step - loss: 1.1832 - accuracy: 0.7958\n"
          ]
        }
      ]
    },
    {
      "cell_type": "code",
      "metadata": {
        "id": "1fXTEO3GJ282",
        "outputId": "2bd3acf1-9b03-46cc-c738-10ae2a763412",
        "colab": {
          "base_uri": "https://localhost:8080/",
          "height": 545
        }
      },
      "source": [
        "import matplotlib.pyplot as plt\n",
        "acc = history.history['accuracy']\n",
        "loss = history.history['loss']\n",
        "\n",
        "epochs = range(len(acc))\n",
        "\n",
        "plt.plot(epochs, acc, 'b', label='Training accuracy')\n",
        "plt.title('Training accuracy')\n",
        "\n",
        "plt.figure()\n",
        "\n",
        "plt.plot(epochs, loss, 'b', label='Training Loss')\n",
        "plt.title('Training loss')\n",
        "plt.legend()\n",
        "\n",
        "plt.show()"
      ],
      "execution_count": 7,
      "outputs": [
        {
          "output_type": "display_data",
          "data": {
            "text/plain": [
              "<Figure size 432x288 with 1 Axes>"
            ],
            "image/png": "[encoded data removed]"
          },
          "metadata": {
            "needs_background": "light"
          }
        },
        {
          "output_type": "display_data",
          "data": {
            "text/plain": [
              "<Figure size 432x288 with 1 Axes>"
            ],
            "image/png": "[encoded data removed]"
          },
          "metadata": {
            "needs_background": "light"
          }
        }
      ]
    },
    {
      "cell_type": "code",
      "metadata": {
        "id": "6Vc6PHgxa6Hm",
        "outputId": "5470a17e-c615-45eb-9be3-a4a8f1d13ca4",
        "colab": {
          "base_uri": "https://localhost:8080/",
          "height": 235
        }
      },
      "source": [
        "seed_text = \"Help me Obi Wan Kenobi, you're my only hope\"\n",
        "next_words = 100\n",
        "  \n",
        "for _ in range(next_words):\n",
        "\ttoken_list = tokenizer.texts_to_sequences([seed_text])[0]\n",
        "\ttoken_list = pad_sequences([token_list], maxlen=max_sequence_len-1, padding='pre')\n",
        "\tpredicted = model.predict_classes(token_list, verbose=0)\n",
        "\toutput_word = \"\"\n",
        "\tfor word, index in tokenizer.word_index.items():\n",
        "\t\tif index == predicted:\n",
        "\t\t\toutput_word = word\n",
        "\t\t\tbreak\n",
        "\tseed_text += \" \" + output_word\n",
        "print(seed_text)"
      ],
      "execution_count": 8,
      "outputs": [
        {
          "output_type": "error",
          "ename": "AttributeError",
          "evalue": "ignored",
          "traceback": [
            "\u001b[0;31m---------------------------------------------------------------------------\u001b[0m",
            "\u001b[0;31mAttributeError\u001b[0m                            Traceback (most recent call last)",
            "\u001b[0;32m<ipython-input-8-622d307fa19a>\u001b[0m in \u001b[0;36m<module>\u001b[0;34m()\u001b[0m\n\u001b[1;32m      5\u001b[0m         \u001b[0mtoken_list\u001b[0m \u001b[0;34m=\u001b[0m \u001b[0mtokenizer\u001b[0m\u001b[0;34m.\u001b[0m\u001b[0mtexts_to_sequences\u001b[0m\u001b[0;34m(\u001b[0m\u001b[0;34m[\u001b[0m\u001b[0mseed_text\u001b[0m\u001b[0;34m]\u001b[0m\u001b[0;34m)\u001b[0m\u001b[0;34m[\u001b[0m\u001b[0;36m0\u001b[0m\u001b[0;34m]\u001b[0m\u001b[0;34m\u001b[0m\u001b[0;34m\u001b[0m\u001b[0m\n\u001b[1;32m      6\u001b[0m         \u001b[0mtoken_list\u001b[0m \u001b[0;34m=\u001b[0m \u001b[0mpad_sequences\u001b[0m\u001b[0;34m(\u001b[0m\u001b[0;34m[\u001b[0m\u001b[0mtoken_list\u001b[0m\u001b[0;34m]\u001b[0m\u001b[0;34m,\u001b[0m \u001b[0mmaxlen\u001b[0m\u001b[0;34m=\u001b[0m\u001b[0mmax_sequence_len\u001b[0m\u001b[0;34m-\u001b[0m\u001b[0;36m1\u001b[0m\u001b[0;34m,\u001b[0m \u001b[0mpadding\u001b[0m\u001b[0;34m=\u001b[0m\u001b[0;34m'pre'\u001b[0m\u001b[0;34m)\u001b[0m\u001b[0;34m\u001b[0m\u001b[0;34m\u001b[0m\u001b[0m\n\u001b[0;32m----> 7\u001b[0;31m         \u001b[0mpredicted\u001b[0m \u001b[0;34m=\u001b[0m \u001b[0mmodel\u001b[0m\u001b[0;34m.\u001b[0m\u001b[0mpredict_classes\u001b[0m\u001b[0;34m(\u001b[0m\u001b[0mtoken_list\u001b[0m\u001b[0;34m,\u001b[0m \u001b[0mverbose\u001b[0m\u001b[0;34m=\u001b[0m\u001b[0;36m0\u001b[0m\u001b[0;34m)\u001b[0m\u001b[0;34m\u001b[0m\u001b[0;34m\u001b[0m\u001b[0m\n\u001b[0m\u001b[1;32m      8\u001b[0m         \u001b[0moutput_word\u001b[0m \u001b[0;34m=\u001b[0m \u001b[0;34m\"\"\u001b[0m\u001b[0;34m\u001b[0m\u001b[0;34m\u001b[0m\u001b[0m\n\u001b[1;32m      9\u001b[0m         \u001b[0;32mfor\u001b[0m \u001b[0mword\u001b[0m\u001b[0;34m,\u001b[0m \u001b[0mindex\u001b[0m \u001b[0;32min\u001b[0m \u001b[0mtokenizer\u001b[0m\u001b[0;34m.\u001b[0m\u001b[0mword_index\u001b[0m\u001b[0;34m.\u001b[0m\u001b[0mitems\u001b[0m\u001b[0;34m(\u001b[0m\u001b[0;34m)\u001b[0m\u001b[0;34m:\u001b[0m\u001b[0;34m\u001b[0m\u001b[0;34m\u001b[0m\u001b[0m\n",
            "\u001b[0;31mAttributeError\u001b[0m: 'Sequential' object has no attribute 'predict_classes'"
          ]
        }
      ]
    }
  ]
}