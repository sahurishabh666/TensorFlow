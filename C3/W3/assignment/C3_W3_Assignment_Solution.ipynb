{
  "nbformat": 4,
  "nbformat_minor": 0,
  "metadata": {
    "accelerator": "GPU",
    "colab": {
      "name": "C3_W3_Assignment_Solution.ipynb",
      "provenance": [],
      "collapsed_sections": [],
      "include_colab_link": true
    },
    "kernelspec": {
      "name": "python3",
      "display_name": "Python 3"
    },
    "language_info": {
      "name": "python"
    }
  },
  "cells": [
    {
      "cell_type": "markdown",
      "metadata": {
        "id": "view-in-github",
        "colab_type": "text"
      },
      "source": [
        "<a href=\"https://colab.research.google.com/github/sahurishabh666/TensorFlow/blob/master/C3/W3/assignment/C3_W3_Assignment_Solution.ipynb\" target=\"_parent\"><img src=\"https://colab.research.google.com/assets/colab-badge.svg\" alt=\"Open In Colab\"/></a>"
      ]
    },
    {
      "cell_type": "code",
      "metadata": {
        "id": "zX4Kg8DUTKWO"
      },
      "source": [
        "#@title Licensed under the Apache License, Version 2.0 (the \"License\");\n",
        "# you may not use this file except in compliance with the License.\n",
        "# You may obtain a copy of the License at\n",
        "#\n",
        "# https://www.apache.org/licenses/LICENSE-2.0\n",
        "#\n",
        "# Unless required by applicable law or agreed to in writing, software\n",
        "# distributed under the License is distributed on an \"AS IS\" BASIS,\n",
        "# WITHOUT WARRANTIES OR CONDITIONS OF ANY KIND, either express or implied.\n",
        "# See the License for the specific language governing permissions and\n",
        "# limitations under the License."
      ],
      "execution_count": null,
      "outputs": []
    },
    {
      "cell_type": "markdown",
      "metadata": {
        "id": "-v8aHcpUdtKN"
      },
      "source": [
        "**Note:** This notebook can run using TensorFlow 2.5.0"
      ]
    },
    {
      "cell_type": "code",
      "metadata": {
        "id": "FtL554lDdtKO"
      },
      "source": [
        "#!pip install tensorflow==2.5.0"
      ],
      "execution_count": null,
      "outputs": []
    },
    {
      "cell_type": "code",
      "metadata": {
        "id": "hmA6EzkQJ5jt"
      },
      "source": [
        "import json\n",
        "import tensorflow as tf\n",
        "import csv\n",
        "import random\n",
        "import numpy as np\n",
        "from tensorflow.keras.preprocessing.text import Tokenizer\n",
        "from tensorflow.keras.preprocessing.sequence import pad_sequences\n",
        "from tensorflow.keras.utils import to_categorical\n",
        "from tensorflow.keras import regularizers\n",
        "\n",
        "\n",
        "embedding_dim = 100\n",
        "max_length = 16\n",
        "trunc_type='post'\n",
        "padding_type='post'\n",
        "oov_tok = \"<OOV>\"\n",
        "training_size=160000\n",
        "test_portion=.1\n",
        "\n",
        "corpus = []\n"
      ],
      "execution_count": 15,
      "outputs": []
    },
    {
      "cell_type": "code",
      "source": [
        "!pwd"
      ],
      "metadata": {
        "id": "nOf3v_HTuLHb",
        "outputId": "89001e33-f970-41ab-806a-4c0a49f99d92",
        "colab": {
          "base_uri": "https://localhost:8080/"
        }
      },
      "execution_count": 16,
      "outputs": [
        {
          "output_type": "stream",
          "name": "stdout",
          "text": [
            "/content\n"
          ]
        }
      ]
    },
    {
      "cell_type": "code",
      "source": [
        "!gdown --id 1wd8KaeCSHxt-nEpMeuHFSNWrDp8joUXJ"
      ],
      "metadata": {
        "id": "j0XT2rvIwMEQ",
        "outputId": "f48b4a6a-c123-4566-ab11-efeb33d666c6",
        "colab": {
          "base_uri": "https://localhost:8080/"
        }
      },
      "execution_count": 19,
      "outputs": [
        {
          "output_type": "stream",
          "name": "stdout",
          "text": [
            "Access denied with the following error:\n",
            "\n",
            " \tCannot retrieve the public link of the file. You may need to change\n",
            "\tthe permission to 'Anyone with the link', or have had many accesses. \n",
            "\n",
            "You may still be able to access the file from the browser:\n",
            "\n",
            "\t https://drive.google.com/uc?id=1wd8KaeCSHxt-nEpMeuHFSNWrDp8joUXJ \n",
            "\n"
          ]
        }
      ]
    },
    {
      "cell_type": "markdown",
      "source": [
        "All the comments in below cell should be after magic command(%%), otherwise it will throw invalid syntax error. Nothing should be before magic command."
      ],
      "metadata": {
        "id": "1dWORqG5wycT"
      }
    },
    {
      "cell_type": "code",
      "source": [
        "%%writefile download.sh\n",
        "\n",
        "#!/bin/bash\n",
        "fileid=\"1wd8KaeCSHxt-nEpMeuHFSNWrDp8joUXJ\"\n",
        "filename=\"training_cleaned.csv\"\n",
        "html=`curl -c ./cookie -s -L \"https://drive.google.com/uc?export=download&id=${fileid}\"`\n",
        "curl -Lb ./cookie \"https://drive.google.com/uc?export=download&`echo ${html}|grep -Po '(confirm=[a-zA-Z0-9\\-_]+)'`&id=${fileid}\" -o ${filename}"
      ],
      "metadata": {
        "id": "4My7QiUwvUyN",
        "outputId": "a1dc4a4f-aef7-4799-d877-1be7fa02ebc4",
        "colab": {
          "base_uri": "https://localhost:8080/"
        }
      },
      "execution_count": 20,
      "outputs": [
        {
          "output_type": "stream",
          "name": "stdout",
          "text": [
            "Writing download.sh\n"
          ]
        }
      ]
    },
    {
      "cell_type": "code",
      "source": [
        "!bash download.sh"
      ],
      "metadata": {
        "id": "zYct-0C_v7Px",
        "outputId": "eb5ea1e1-9e4d-4ad1-9a28-3725d6ddb953",
        "colab": {
          "base_uri": "https://localhost:8080/"
        }
      },
      "execution_count": 21,
      "outputs": [
        {
          "output_type": "stream",
          "name": "stdout",
          "text": [
            "  % Total    % Received % Xferd  Average Speed   Time    Time     Time  Current\n",
            "                                 Dload  Upload   Total   Spent    Left  Speed\n",
            "  0     0    0     0    0     0      0      0 --:--:-- --:--:-- --:--:--     0\n",
            "100  227M  100  227M    0     0  50.7M      0  0:00:04  0:00:04 --:--:-- 58.6M\n"
          ]
        }
      ]
    },
    {
      "cell_type": "code",
      "metadata": {
        "id": "bM0l_dORKqE0"
      },
      "source": [
        "# Note that I cleaned the Stanford dataset to remove LATIN1 encoding to make it easier for Python CSV reader\n",
        "# You can do that yourself with:\n",
        "# iconv -f LATIN1 -t UTF8 training.1600000.processed.noemoticon.csv -o training_cleaned.csv\n",
        "\n",
        "# training_cleaned.csv\n",
        "\n",
        "\n",
        "num_sentences = 0\n",
        "\n",
        "with open(\"./training_cleaned.csv\") as csvfile:\n",
        "    reader = csv.reader(csvfile, delimiter=',')\n",
        "    for row in reader:\n",
        "        list_item=[]\n",
        "        \n",
        "        ### START CODE HERE\n",
        "        list_item.append(row[5])\n",
        "        this_label=row[0]\n",
        "        if this_label=='0':\n",
        "            list_item.append(0)\n",
        "        else:\n",
        "            list_item.append(1)\n",
        "        ### END CODE HERE\n",
        "        \n",
        "        num_sentences = num_sentences + 1\n",
        "        corpus.append(list_item)\n"
      ],
      "execution_count": 22,
      "outputs": []
    },
    {
      "cell_type": "code",
      "metadata": {
        "id": "3kxblBUjEUX-",
        "outputId": "e61f4598-98b5-47e8-88ac-05335aeb3ff3",
        "colab": {
          "base_uri": "https://localhost:8080/"
        }
      },
      "source": [
        "print(num_sentences)\n",
        "print(len(corpus))\n",
        "print(corpus[1])\n",
        "\n",
        "# Expected Output:\n",
        "# 1600000\n",
        "# 1600000\n",
        "# [\"is upset that he can't update his Facebook by texting it... and might cry as a result  School today also. Blah!\", 0]"
      ],
      "execution_count": 23,
      "outputs": [
        {
          "output_type": "stream",
          "name": "stdout",
          "text": [
            "1600000\n",
            "1600000\n",
            "[\"is upset that he can't update his Facebook by texting it... and might cry as a result  School today also. Blah!\", 0]\n"
          ]
        }
      ]
    },
    {
      "cell_type": "code",
      "metadata": {
        "id": "ohOGz24lsNAD"
      },
      "source": [
        "sentences=[]\n",
        "labels=[]\n",
        "random.shuffle(corpus)\n",
        "for x in range(training_size):\n",
        "    sentences.append(corpus[x][0])# YOUR CODE HERE)\n",
        "    labels.append(corpus[x][1])# YOUR CODE HERE)\n",
        "\n",
        "\n",
        "tokenizer = Tokenizer()\n",
        "tokenizer.fit_on_texts(sentences)# YOUR CODE HERE)\n",
        "\n",
        "word_index = tokenizer.word_index\n",
        "vocab_size=len(word_index)# YOUR CODE HERE)\n",
        "\n",
        "sequences = tokenizer.texts_to_sequences(sentences)# YOUR CODE HERE)\n",
        "padded = pad_sequences(sequences, maxlen=max_length, padding=padding_type, truncating=trunc_type)# YOUR CODE HERE)\n",
        "\n",
        "split = int(test_portion * training_size)\n",
        "\n",
        "test_sequences = padded[0:split]# YOUR CODE HERE)\n",
        "training_sequences = padded[split:training_size]# YOUR CODE HERE)\n",
        "test_labels = labels[0:split]# YOUR CODE HERE)\n",
        "training_labels = labels[split:training_size]# YOUR CODE HERE)"
      ],
      "execution_count": 24,
      "outputs": []
    },
    {
      "cell_type": "code",
      "metadata": {
        "id": "gIrtRem1En3N",
        "outputId": "8b7ea57f-8283-4a54-9726-311e8757974b",
        "colab": {
          "base_uri": "https://localhost:8080/"
        }
      },
      "source": [
        "print(vocab_size)\n",
        "print(word_index['i'])\n",
        "# Expected Output\n",
        "# 138856\n",
        "# 1"
      ],
      "execution_count": 25,
      "outputs": [
        {
          "output_type": "stream",
          "name": "stdout",
          "text": [
            "138686\n",
            "1\n"
          ]
        }
      ]
    },
    {
      "cell_type": "code",
      "source": [
        "!gdown --id 1W5vZy2etitAblLdFn8_DxnsQKzfFJ98g"
      ],
      "metadata": {
        "id": "V_Z71NN3w87A",
        "outputId": "0d865f61-4e1f-4a5e-ae87-f408cf55623a",
        "colab": {
          "base_uri": "https://localhost:8080/"
        }
      },
      "execution_count": 27,
      "outputs": [
        {
          "output_type": "stream",
          "name": "stdout",
          "text": [
            "Access denied with the following error:\n",
            "\n",
            " \tCannot retrieve the public link of the file. You may need to change\n",
            "\tthe permission to 'Anyone with the link', or have had many accesses. \n",
            "\n",
            "You may still be able to access the file from the browser:\n",
            "\n",
            "\t https://drive.google.com/uc?id=1W5vZy2etitAblLdFn8_DxnsQKzfFJ98g \n",
            "\n"
          ]
        }
      ]
    },
    {
      "cell_type": "code",
      "source": [
        "%%writefile download.sh\n",
        "\n",
        "#!/bin/bash\n",
        "fileid=\"1W5vZy2etitAblLdFn8_DxnsQKzfFJ98g\"\n",
        "filename=\"glove.6B.100d.txt\"\n",
        "html=`curl -c ./cookie -s -L \"https://drive.google.com/uc?export=download&id=${fileid}\"`\n",
        "curl -Lb ./cookie \"https://drive.google.com/uc?export=download&`echo ${html}|grep -Po '(confirm=[a-zA-Z0-9\\-_]+)'`&id=${fileid}\" -o ${filename}"
      ],
      "metadata": {
        "id": "-TBnRyhpxAC-",
        "outputId": "ebef7105-9f97-44b8-b7b0-c1f82fcfb4ad",
        "colab": {
          "base_uri": "https://localhost:8080/"
        }
      },
      "execution_count": 28,
      "outputs": [
        {
          "output_type": "stream",
          "name": "stdout",
          "text": [
            "Overwriting download.sh\n"
          ]
        }
      ]
    },
    {
      "cell_type": "code",
      "source": [
        "!bash download.sh"
      ],
      "metadata": {
        "id": "tb0iuF7DxKA9",
        "outputId": "6b1b04ab-de0e-4ee9-a161-285ef8730c3b",
        "colab": {
          "base_uri": "https://localhost:8080/"
        }
      },
      "execution_count": 29,
      "outputs": [
        {
          "output_type": "stream",
          "name": "stdout",
          "text": [
            "  % Total    % Received % Xferd  Average Speed   Time    Time     Time  Current\n",
            "                                 Dload  Upload   Total   Spent    Left  Speed\n",
            "  0     0    0     0    0     0      0      0 --:--:-- --:--:-- --:--:--     0\n",
            "100  331M  100  331M    0     0  39.8M      0  0:00:08  0:00:08 --:--:-- 51.3M\n"
          ]
        }
      ]
    },
    {
      "cell_type": "code",
      "metadata": {
        "id": "C1zdgJkusRh0"
      },
      "source": [
        "# Note this is the 100 dimension version of GloVe from Stanford\n",
        "\n",
        "# glove.6B.100d.txt\n",
        "\n",
        "\n",
        "embeddings_index = {};\n",
        "with open('./glove.6B.100d.txt') as f:\n",
        "    for line in f:\n",
        "        values = line.split();\n",
        "        word = values[0];\n",
        "        coefs = np.asarray(values[1:], dtype='float32');\n",
        "        embeddings_index[word] = coefs;\n",
        "\n",
        "embeddings_matrix = np.zeros((vocab_size+1, embedding_dim));\n",
        "for word, i in word_index.items():\n",
        "    embedding_vector = embeddings_index.get(word);\n",
        "    if embedding_vector is not None:\n",
        "        embeddings_matrix[i] = embedding_vector;"
      ],
      "execution_count": 30,
      "outputs": []
    },
    {
      "cell_type": "code",
      "metadata": {
        "id": "71NLk_lpFLNt",
        "outputId": "d0ec7aec-b771-4468-98f9-a0ab621476d5",
        "colab": {
          "base_uri": "https://localhost:8080/"
        }
      },
      "source": [
        "print(len(embeddings_matrix))\n",
        "# Expected Output\n",
        "# 138857"
      ],
      "execution_count": 31,
      "outputs": [
        {
          "output_type": "stream",
          "name": "stdout",
          "text": [
            "138687\n"
          ]
        }
      ]
    },
    {
      "cell_type": "code",
      "metadata": {
        "id": "iKKvbuEBOGFz",
        "outputId": "32b2f363-f070-4b81-f705-41581a4dbf30",
        "colab": {
          "base_uri": "https://localhost:8080/"
        }
      },
      "source": [
        "model = tf.keras.Sequential([\n",
        "    # YOUR CODE HERE\n",
        "    tf.keras.layers.Embedding(vocab_size+1, embedding_dim, input_length=max_length, weights=[embeddings_matrix], trainable=False),\n",
        "    tf.keras.layers.Dropout(0.2),\n",
        "    tf.keras.layers.Conv1D(64, 5, activation='relu'),\n",
        "    tf.keras.layers.MaxPooling1D(pool_size=4),\n",
        "    tf.keras.layers.LSTM(64),\n",
        "    tf.keras.layers.Dense(1, activation='sigmoid')\n",
        "])\n",
        "model.compile(loss='binary_crossentropy',optimizer='adam',metrics=['accuracy'])# YOUR CODE HERE)\n",
        "model.summary()\n",
        "\n",
        "num_epochs = 50\n",
        "\n",
        "training_padded = np.array(training_sequences)\n",
        "training_labels = np.array(training_labels)\n",
        "testing_padded = np.array(test_sequences)\n",
        "testing_labels = np.array(test_labels)\n",
        "\n",
        "history = model.fit(training_padded, training_labels, epochs=num_epochs, validation_data=(testing_padded, testing_labels), verbose=2)\n",
        "\n",
        "print(\"Training Complete\")"
      ],
      "execution_count": 32,
      "outputs": [
        {
          "output_type": "stream",
          "name": "stdout",
          "text": [
            "Model: \"sequential\"\n",
            "_________________________________________________________________\n",
            " Layer (type)                Output Shape              Param #   \n",
            "=================================================================\n",
            " embedding (Embedding)       (None, 16, 100)           13868700  \n",
            "                                                                 \n",
            " dropout (Dropout)           (None, 16, 100)           0         \n",
            "                                                                 \n",
            " conv1d (Conv1D)             (None, 12, 64)            32064     \n",
            "                                                                 \n",
            " max_pooling1d (MaxPooling1D  (None, 3, 64)            0         \n",
            " )                                                               \n",
            "                                                                 \n",
            " lstm (LSTM)                 (None, 64)                33024     \n",
            "                                                                 \n",
            " dense (Dense)               (None, 1)                 65        \n",
            "                                                                 \n",
            "=================================================================\n",
            "Total params: 13,933,853\n",
            "Trainable params: 65,153\n",
            "Non-trainable params: 13,868,700\n",
            "_________________________________________________________________\n",
            "Epoch 1/50\n",
            "4500/4500 - 35s - loss: 0.5669 - accuracy: 0.6988 - val_loss: 0.5230 - val_accuracy: 0.7370 - 35s/epoch - 8ms/step\n",
            "Epoch 2/50\n",
            "4500/4500 - 22s - loss: 0.5262 - accuracy: 0.7320 - val_loss: 0.5093 - val_accuracy: 0.7440 - 22s/epoch - 5ms/step\n",
            "Epoch 3/50\n",
            "4500/4500 - 22s - loss: 0.5097 - accuracy: 0.7447 - val_loss: 0.5022 - val_accuracy: 0.7497 - 22s/epoch - 5ms/step\n",
            "Epoch 4/50\n",
            "4500/4500 - 22s - loss: 0.4974 - accuracy: 0.7532 - val_loss: 0.5009 - val_accuracy: 0.7478 - 22s/epoch - 5ms/step\n",
            "Epoch 5/50\n",
            "4500/4500 - 21s - loss: 0.4890 - accuracy: 0.7577 - val_loss: 0.4972 - val_accuracy: 0.7546 - 21s/epoch - 5ms/step\n",
            "Epoch 6/50\n",
            "4500/4500 - 21s - loss: 0.4811 - accuracy: 0.7634 - val_loss: 0.4917 - val_accuracy: 0.7607 - 21s/epoch - 5ms/step\n",
            "Epoch 7/50\n",
            "4500/4500 - 20s - loss: 0.4767 - accuracy: 0.7657 - val_loss: 0.4937 - val_accuracy: 0.7584 - 20s/epoch - 5ms/step\n",
            "Epoch 8/50\n",
            "4500/4500 - 22s - loss: 0.4723 - accuracy: 0.7686 - val_loss: 0.4949 - val_accuracy: 0.7591 - 22s/epoch - 5ms/step\n",
            "Epoch 9/50\n",
            "4500/4500 - 20s - loss: 0.4663 - accuracy: 0.7724 - val_loss: 0.4914 - val_accuracy: 0.7569 - 20s/epoch - 4ms/step\n",
            "Epoch 10/50\n",
            "4500/4500 - 21s - loss: 0.4626 - accuracy: 0.7744 - val_loss: 0.4912 - val_accuracy: 0.7575 - 21s/epoch - 5ms/step\n",
            "Epoch 11/50\n",
            "4500/4500 - 21s - loss: 0.4595 - accuracy: 0.7766 - val_loss: 0.4981 - val_accuracy: 0.7565 - 21s/epoch - 5ms/step\n",
            "Epoch 12/50\n",
            "4500/4500 - 19s - loss: 0.4562 - accuracy: 0.7795 - val_loss: 0.4954 - val_accuracy: 0.7552 - 19s/epoch - 4ms/step\n",
            "Epoch 13/50\n",
            "4500/4500 - 21s - loss: 0.4541 - accuracy: 0.7791 - val_loss: 0.4995 - val_accuracy: 0.7559 - 21s/epoch - 5ms/step\n",
            "Epoch 14/50\n",
            "4500/4500 - 21s - loss: 0.4501 - accuracy: 0.7820 - val_loss: 0.5009 - val_accuracy: 0.7533 - 21s/epoch - 5ms/step\n",
            "Epoch 15/50\n",
            "4500/4500 - 19s - loss: 0.4481 - accuracy: 0.7836 - val_loss: 0.5060 - val_accuracy: 0.7509 - 19s/epoch - 4ms/step\n",
            "Epoch 16/50\n",
            "4500/4500 - 19s - loss: 0.4485 - accuracy: 0.7844 - val_loss: 0.5018 - val_accuracy: 0.7511 - 19s/epoch - 4ms/step\n",
            "Epoch 17/50\n",
            "4500/4500 - 20s - loss: 0.4449 - accuracy: 0.7851 - val_loss: 0.4983 - val_accuracy: 0.7562 - 20s/epoch - 4ms/step\n",
            "Epoch 18/50\n",
            "4500/4500 - 19s - loss: 0.4422 - accuracy: 0.7886 - val_loss: 0.5049 - val_accuracy: 0.7513 - 19s/epoch - 4ms/step\n",
            "Epoch 19/50\n",
            "4500/4500 - 19s - loss: 0.4418 - accuracy: 0.7872 - val_loss: 0.5047 - val_accuracy: 0.7542 - 19s/epoch - 4ms/step\n",
            "Epoch 20/50\n",
            "4500/4500 - 19s - loss: 0.4410 - accuracy: 0.7875 - val_loss: 0.5082 - val_accuracy: 0.7528 - 19s/epoch - 4ms/step\n",
            "Epoch 21/50\n",
            "4500/4500 - 21s - loss: 0.4389 - accuracy: 0.7891 - val_loss: 0.5073 - val_accuracy: 0.7566 - 21s/epoch - 5ms/step\n",
            "Epoch 22/50\n",
            "4500/4500 - 19s - loss: 0.4385 - accuracy: 0.7896 - val_loss: 0.5071 - val_accuracy: 0.7542 - 19s/epoch - 4ms/step\n",
            "Epoch 23/50\n",
            "4500/4500 - 19s - loss: 0.4373 - accuracy: 0.7899 - val_loss: 0.5064 - val_accuracy: 0.7545 - 19s/epoch - 4ms/step\n",
            "Epoch 24/50\n",
            "4500/4500 - 19s - loss: 0.4372 - accuracy: 0.7908 - val_loss: 0.5052 - val_accuracy: 0.7539 - 19s/epoch - 4ms/step\n",
            "Epoch 25/50\n",
            "4500/4500 - 19s - loss: 0.4348 - accuracy: 0.7920 - val_loss: 0.5093 - val_accuracy: 0.7550 - 19s/epoch - 4ms/step\n",
            "Epoch 26/50\n",
            "4500/4500 - 20s - loss: 0.4341 - accuracy: 0.7935 - val_loss: 0.5147 - val_accuracy: 0.7534 - 20s/epoch - 4ms/step\n",
            "Epoch 27/50\n",
            "4500/4500 - 21s - loss: 0.4337 - accuracy: 0.7929 - val_loss: 0.5159 - val_accuracy: 0.7511 - 21s/epoch - 5ms/step\n",
            "Epoch 28/50\n",
            "4500/4500 - 21s - loss: 0.4320 - accuracy: 0.7935 - val_loss: 0.5117 - val_accuracy: 0.7495 - 21s/epoch - 5ms/step\n",
            "Epoch 29/50\n",
            "4500/4500 - 19s - loss: 0.4323 - accuracy: 0.7929 - val_loss: 0.5142 - val_accuracy: 0.7498 - 19s/epoch - 4ms/step\n",
            "Epoch 30/50\n",
            "4500/4500 - 20s - loss: 0.4307 - accuracy: 0.7943 - val_loss: 0.5160 - val_accuracy: 0.7506 - 20s/epoch - 5ms/step\n",
            "Epoch 31/50\n",
            "4500/4500 - 19s - loss: 0.4306 - accuracy: 0.7955 - val_loss: 0.5224 - val_accuracy: 0.7427 - 19s/epoch - 4ms/step\n",
            "Epoch 32/50\n",
            "4500/4500 - 19s - loss: 0.4295 - accuracy: 0.7943 - val_loss: 0.5157 - val_accuracy: 0.7489 - 19s/epoch - 4ms/step\n",
            "Epoch 33/50\n",
            "4500/4500 - 20s - loss: 0.4302 - accuracy: 0.7964 - val_loss: 0.5111 - val_accuracy: 0.7505 - 20s/epoch - 4ms/step\n",
            "Epoch 34/50\n",
            "4500/4500 - 19s - loss: 0.4293 - accuracy: 0.7954 - val_loss: 0.5167 - val_accuracy: 0.7478 - 19s/epoch - 4ms/step\n",
            "Epoch 35/50\n",
            "4500/4500 - 19s - loss: 0.4286 - accuracy: 0.7956 - val_loss: 0.5128 - val_accuracy: 0.7498 - 19s/epoch - 4ms/step\n",
            "Epoch 36/50\n",
            "4500/4500 - 20s - loss: 0.4289 - accuracy: 0.7954 - val_loss: 0.5144 - val_accuracy: 0.7494 - 20s/epoch - 5ms/step\n",
            "Epoch 37/50\n",
            "4500/4500 - 19s - loss: 0.4276 - accuracy: 0.7972 - val_loss: 0.5129 - val_accuracy: 0.7517 - 19s/epoch - 4ms/step\n",
            "Epoch 38/50\n",
            "4500/4500 - 19s - loss: 0.4279 - accuracy: 0.7970 - val_loss: 0.5146 - val_accuracy: 0.7471 - 19s/epoch - 4ms/step\n",
            "Epoch 39/50\n",
            "4500/4500 - 19s - loss: 0.4272 - accuracy: 0.7969 - val_loss: 0.5188 - val_accuracy: 0.7503 - 19s/epoch - 4ms/step\n",
            "Epoch 40/50\n",
            "4500/4500 - 19s - loss: 0.4276 - accuracy: 0.7968 - val_loss: 0.5178 - val_accuracy: 0.7487 - 19s/epoch - 4ms/step\n",
            "Epoch 41/50\n",
            "4500/4500 - 19s - loss: 0.4260 - accuracy: 0.7976 - val_loss: 0.5183 - val_accuracy: 0.7475 - 19s/epoch - 4ms/step\n",
            "Epoch 42/50\n",
            "4500/4500 - 19s - loss: 0.4272 - accuracy: 0.7961 - val_loss: 0.5150 - val_accuracy: 0.7508 - 19s/epoch - 4ms/step\n",
            "Epoch 43/50\n",
            "4500/4500 - 20s - loss: 0.4259 - accuracy: 0.7977 - val_loss: 0.5152 - val_accuracy: 0.7498 - 20s/epoch - 4ms/step\n",
            "Epoch 44/50\n",
            "4500/4500 - 20s - loss: 0.4232 - accuracy: 0.7984 - val_loss: 0.5203 - val_accuracy: 0.7512 - 20s/epoch - 4ms/step\n",
            "Epoch 45/50\n",
            "4500/4500 - 20s - loss: 0.4247 - accuracy: 0.7988 - val_loss: 0.5130 - val_accuracy: 0.7511 - 20s/epoch - 4ms/step\n",
            "Epoch 46/50\n",
            "4500/4500 - 19s - loss: 0.4260 - accuracy: 0.7966 - val_loss: 0.5163 - val_accuracy: 0.7513 - 19s/epoch - 4ms/step\n",
            "Epoch 47/50\n",
            "4500/4500 - 19s - loss: 0.4237 - accuracy: 0.7996 - val_loss: 0.5191 - val_accuracy: 0.7506 - 19s/epoch - 4ms/step\n",
            "Epoch 48/50\n",
            "4500/4500 - 19s - loss: 0.4247 - accuracy: 0.7977 - val_loss: 0.5152 - val_accuracy: 0.7504 - 19s/epoch - 4ms/step\n",
            "Epoch 49/50\n",
            "4500/4500 - 19s - loss: 0.4242 - accuracy: 0.7986 - val_loss: 0.5168 - val_accuracy: 0.7516 - 19s/epoch - 4ms/step\n",
            "Epoch 50/50\n",
            "4500/4500 - 19s - loss: 0.4221 - accuracy: 0.8002 - val_loss: 0.5224 - val_accuracy: 0.7496 - 19s/epoch - 4ms/step\n",
            "Training Complete\n"
          ]
        }
      ]
    },
    {
      "cell_type": "code",
      "metadata": {
        "id": "qxju4ItJKO8F",
        "outputId": "2736105d-6589-4c35-b551-7ab08cbdf6a0",
        "colab": {
          "base_uri": "https://localhost:8080/",
          "height": 608
        }
      },
      "source": [
        "import matplotlib.image  as mpimg\n",
        "import matplotlib.pyplot as plt\n",
        "\n",
        "#-----------------------------------------------------------\n",
        "# Retrieve a list of list results on training and test data\n",
        "# sets for each training epoch\n",
        "#-----------------------------------------------------------\n",
        "acc=history.history['accuracy']\n",
        "val_acc=history.history['val_accuracy']\n",
        "loss=history.history['loss']\n",
        "val_loss=history.history['val_loss']\n",
        "\n",
        "epochs=range(len(acc)) # Get number of epochs\n",
        "\n",
        "#------------------------------------------------\n",
        "# Plot training and validation accuracy per epoch\n",
        "#------------------------------------------------\n",
        "plt.plot(epochs, acc, 'r')\n",
        "plt.plot(epochs, val_acc, 'b')\n",
        "plt.title('Training and validation accuracy')\n",
        "plt.xlabel(\"Epochs\")\n",
        "plt.ylabel(\"Accuracy\")\n",
        "plt.legend([\"Accuracy\", \"Validation Accuracy\"])\n",
        "\n",
        "plt.figure()\n",
        "\n",
        "#------------------------------------------------\n",
        "# Plot training and validation loss per epoch\n",
        "#------------------------------------------------\n",
        "plt.plot(epochs, loss, 'r')\n",
        "plt.plot(epochs, val_loss, 'b')\n",
        "plt.title('Training and validation loss')\n",
        "plt.xlabel(\"Epochs\")\n",
        "plt.ylabel(\"Loss\")\n",
        "plt.legend([\"Loss\", \"Validation Loss\"])\n",
        "\n",
        "plt.figure()\n",
        "\n",
        "\n",
        "# Expected Output\n",
        "# A chart where the validation loss does not increase sharply!"
      ],
      "execution_count": 33,
      "outputs": [
        {
          "output_type": "execute_result",
          "data": {
            "text/plain": [
              "<Figure size 432x288 with 0 Axes>"
            ]
          },
          "metadata": {},
          "execution_count": 33
        },
        {
          "output_type": "display_data",
          "data": {
            "text/plain": [
              "<Figure size 432x288 with 1 Axes>"
            ],
            "image/png": "[encoded data removed]"
          },
          "metadata": {
            "needs_background": "light"
          }
        },
        {
          "output_type": "display_data",
          "data": {
            "text/plain": [
              "<Figure size 432x288 with 1 Axes>"
            ],
            "image/png": "[encoded data removed]"
          },
          "metadata": {
            "needs_background": "light"
          }
        },
        {
          "output_type": "display_data",
          "data": {
            "text/plain": [
              "<Figure size 432x288 with 0 Axes>"
            ]
          },
          "metadata": {}
        }
      ]
    }
  ]
}